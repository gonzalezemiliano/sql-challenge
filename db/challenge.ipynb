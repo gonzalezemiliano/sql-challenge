{
 "cells": [
  {
   "cell_type": "markdown",
   "metadata": {},
   "source": [
    "# Challenge Tecnico de SQL\n",
    "\n",
    "**Objetivos:** \n",
    "\n",
    "* Realizar consultas en SQL, interactuando con una base de datos alojada en un servidor de base de datos PostgreSQL. \n",
    "\n",
    "En este challenge vamos a partir de una base de datos de películas con datos [obtenidos del sitio IMDB]()\n",
    "\n",
    "![Esquema de la base de datos](db/figMER.png)\n",
    "\n",
    "**Entrega:** Realizar todas las actividades que se describen en este notebook. Si es necesario, se pueden agregar más celdas tanto de tipo markdown como código. Entregar el notebook modificado que refleje el trabajo realizado por el grupo, incluyendo respuestas, explicaciones y el código generado."
   ]
  },
  {
   "cell_type": "markdown",
   "metadata": {},
   "source": [
    "# 1. Descripción de la realidad \n",
    "\n",
    "En este challenge trabajaremos sobre un subconjunto de la base de datos del sitio IMDB. Los datos utilizados son un subconjunto de los disponibles [aquí](https://www.imdb.com/interfaces/).\n",
    "\n",
    "Esta base almacena, entre otras cosas, información sobre películas. \n",
    "De las películas se conoce un identificador, un nombre, su fecha de estreno, el promedio de votos, el presupuesto destinado a su realización y los ingresos obtenidos, entre otros atributos. Las películas pueden referenciarse entre si (por ejemplo cuando una es una *remake* o un *spin off* de otra). Se sabe entonces qué película referencia a otras y el tipo de la referencia. Todas las películas tienen al menos un género asociado, del cual se conoce, además de su identificador, un nombre.\n",
    "\n",
    "Algunas películas se agrupan en sagas. De las sagas de películas, se registra un identificador, un nombre y la fecha de estreno de la última película que pertence a la saga. \n",
    "\n",
    "Por último se conocen las personas que trabajan en las películas. De las personas se tiene información básica como su nombre, fecha de nacimiento y género. Se cuenta con información sobre los trabajos que realizaron las personas en las películas. En el caso de actores y actrices, también se conoce el rol o papel que interpretaron al trabajar en la película. \n",
    "Para la mejor comprensión de la realidad representada por la base de datos, presentamos a continuación un diagrama Entidad-Relación (se omiten las restricciones no-estructurales). "
   ]
  },
  {
   "cell_type": "markdown",
   "id": "c4462c1e",
   "metadata": {},
   "source": [
    "![image info](./db/figMER.png)"
   ]
  },
  {
   "cell_type": "markdown",
   "metadata": {},
   "source": [
    "# 2. Creación del esquema y carga de datos\n",
    "\n",
    "\n",
    "\n"
   ]
  },
  {
   "cell_type": "markdown",
   "metadata": {},
   "source": [
    "Antes de poder realizar consultas vamos a crear el esquema relacional y cargar datos.\n",
    "Esto lo realizaremos sobre una instancia local de PostgreSQL. "
   ]
  },
  {
   "cell_type": "markdown",
   "metadata": {},
   "source": [
    "## 2.2 Creación de la base de datos y carga en un servidor local\n",
    "\n",
    "Utilizaremos el comando `psql` para crear el esquema y cargar los datos.\n",
    "\n",
    "Primero ejecutamos el script de creación de la base.\n",
    "\n",
    "ATENCION: ejecutar las instrucciones a continuación en una línea de comandos por fuera del notebook para habilitar el modo interactivo y poder ingresar la constraseña."
   ]
  },
  {
   "cell_type": "markdown",
   "metadata": {},
   "source": [
    "1- crear el esquema\n",
    "\n",
    "`psql -U postgres -f movies_schema.sql`\n",
    "\n",
    "2- cargar los datos\n",
    "\n",
    "`psql -U postgres -f movies_data.sql movies`\n",
    "\n",
    "3- crear restricciones\n",
    "\n",
    "`psql -U postgres -f movies_constraints.sql movies`\n"
   ]
  },
  {
   "cell_type": "markdown",
   "metadata": {},
   "source": [
    "# 3. Conexión a la base de datos desde el notebook"
   ]
  },
  {
   "cell_type": "markdown",
   "metadata": {},
   "source": [
    "Independientemente de que instancia usemos, vamos a utilizar la biblioteca [ipython-sql](https://pypi.org/project/ipython-sql/) para ejecutar comandos en forma interactiva desde este notebook.\n",
    "\n",
    "La celda a continuación instala esta biblioteca"
   ]
  },
  {
   "cell_type": "code",
   "execution_count": null,
   "metadata": {},
   "outputs": [],
   "source": [
    "\n",
    "!python3.12 -m pip install ipython-sql\n",
    "!python3.12 -m pip install psycopg2"
   ]
  },
  {
   "cell_type": "markdown",
   "metadata": {},
   "source": [
    " y luego cargamos el módulo "
   ]
  },
  {
   "cell_type": "code",
   "execution_count": null,
   "id": "e9c34043",
   "metadata": {},
   "outputs": [],
   "source": [
    "%load_ext sql\n",
    "\n",
    "# Fix for prettytable style issue with modern approach\n",
    "import prettytable\n",
    "if 'DEFAULT' not in prettytable.__dict__:\n",
    "    from prettytable import TableStyle\n",
    "    prettytable.DEFAULT = TableStyle.DEFAULT\n",
    "\n",
    "%config SqlMagic.style = 'DEFAULT'\n"
   ]
  },
  {
   "cell_type": "markdown",
   "metadata": {},
   "source": [
    "Si estamos usando un servidor local usamos estre string de conexión, reemplazando PASS por la contraseña que hayan elegido para el usuario portgres al momento de la instalación"
   ]
  },
  {
   "cell_type": "code",
   "execution_count": null,
   "metadata": {},
   "outputs": [],
   "source": [
    "%sql postgresql://emilianogonzalez@localhost:5432/imdb"
   ]
  },
  {
   "cell_type": "markdown",
   "metadata": {},
   "source": [
    "Luego hacemos esta consulta de prueba"
   ]
  },
  {
   "cell_type": "code",
   "execution_count": null,
   "metadata": {},
   "outputs": [],
   "source": [
    "%sql SELECT * FROM movies LIMIT 10"
   ]
  },
  {
   "cell_type": "markdown",
   "metadata": {},
   "source": [
    "# 4. Consultas a resolver\n",
    "\n",
    "A continuación se plantean las consultas a resolver. Para cada una de ellas proveer una solución en lenguaje SQL. Para las consultas en SQL **no se podrán utilizar** subconsultas en el FROM, vistas, ni la cláusula WITH\n",
    "\n",
    "En algunos casos se solicitará además discutir si es posible o no solucionar esa consulta en Álgebra Relacional o Cálculo Relacional, y de ser posible se deberá proveer una solución en el lenguaje indicado en cada caso."
   ]
  },
  {
   "cell_type": "markdown",
   "metadata": {},
   "source": [
    "\n",
    "## Consulta 1\n",
    "\n",
    "Devolver el nombre y apellido de aquellas personas para las cuales no se tiene registrada fecha de fallecimiento.\n",
    "Ordenar los resultados por nombre en forma ascendente, y devolver sólo los primeros 10 resultados.\n"
   ]
  },
  {
   "cell_type": "code",
   "execution_count": null,
   "metadata": {},
   "outputs": [],
   "source": [
    "%%sql \n",
    "SELECT p.name \n",
    "FROM people p \n",
    "WHERE p.deathdate IS NULL \n",
    "ORDER BY p.name \n",
    "LIMIT 10;"
   ]
  },
  {
   "cell_type": "markdown",
   "metadata": {},
   "source": [
    "\n",
    "## Consulta 2\n",
    "\n",
    "Devolver el total de películas estrenadas en 2012 y el promedio de sus presupuestos. El resultado debe tener dos columnas: una llamada `total_2012` y otra `promedio_2012`.\n"
   ]
  },
  {
   "cell_type": "code",
   "execution_count": null,
   "metadata": {},
   "outputs": [],
   "source": [
    "%%sql "
   ]
  },
  {
   "cell_type": "markdown",
   "metadata": {},
   "source": [
    "\n",
    "## Consulta 3\n",
    "\n",
    "Para cada saga, devolver su nombre y la cantidad de películas que la componen. Ordenar los resultados por cantidad de películas en forma descendiente.\n"
   ]
  },
  {
   "cell_type": "code",
   "execution_count": null,
   "metadata": {},
   "outputs": [],
   "source": [
    "#SQL cantidad de películas por saga\n",
    "\n",
    "%sql \n"
   ]
  },
  {
   "cell_type": "markdown",
   "metadata": {},
   "source": [
    "## Consulta 4\n",
    "\n",
    "Devolver parejas nombre de película, nombre de persona, tal que esa persona es la única que forma parte del cast de esa película. Dicho de otra manera, para aquellas películas donde una sola persona realiza todos los trabajos, devolver el nombre de la película y el nombre de la persona."
   ]
  },
  {
   "cell_type": "code",
   "execution_count": null,
   "metadata": {},
   "outputs": [],
   "source": [
    "# SQL parejas nombre de película, nombre de persona, tal que esa persona es la única que forma parte del cast de esa película\n",
    "\n",
    "%sql "
   ]
  },
  {
   "cell_type": "markdown",
   "metadata": {},
   "source": [
    "## Consulta 5\n",
    "Para cada saga, actores que participaron en todas sus películas. Devolver parejas id de saga, id de persona."
   ]
  },
  {
   "cell_type": "code",
   "execution_count": null,
   "metadata": {},
   "outputs": [],
   "source": [
    "# SQL actores que participaron en todas las películas de una saga\n",
    "\n",
    "%sql "
   ]
  },
  {
   "cell_type": "markdown",
   "metadata": {},
   "source": [
    "## Consulta 6\n",
    "Nombres de sagas que satisfacen que la fecha de la saga sea igual a la fecha de estreno de la película más reciente de la saga."
   ]
  },
  {
   "cell_type": "code",
   "execution_count": null,
   "metadata": {},
   "outputs": [],
   "source": [
    "# sagas que satisfacen que la fecha sea la fecha de la pelicula de la saga más reciente\n",
    "\n",
    "%sql "
   ]
  },
  {
   "cell_type": "markdown",
   "metadata": {},
   "source": [
    "## Consulta 7\n",
    "Nombre y cantidad de películas de las sagas con las 5 mayores cantidades de películas. Ordenarlas por cantidad de películas en forma descendiente."
   ]
  },
  {
   "cell_type": "code",
   "execution_count": null,
   "metadata": {},
   "outputs": [],
   "source": [
    "# nombre y cantidad de películas de las sagas con las 5 mayores cantidades de películas\n",
    "\n",
    "%sql "
   ]
  },
  {
   "cell_type": "markdown",
   "metadata": {},
   "source": [
    "## Consulta 8\n",
    "Películas que sólo son referenciadas por películas con las que comparten al menos un género"
   ]
  },
  {
   "cell_type": "code",
   "execution_count": null,
   "metadata": {},
   "outputs": [],
   "source": [
    "# películas que solo son referenciadas por peliculas con las que comparten un género\n",
    "\n",
    "%sql select \n"
   ]
  },
  {
   "cell_type": "markdown",
   "id": "ff704e75",
   "metadata": {},
   "source": [
    "# Triggers y Store Procedures\n",
    "\n",
    "## Trigger en sobre tabla audit\n",
    "\n",
    "Cada vez que se inserte una película en la tabla movies, queremos registrar automáticamente un mensaje en una tabla de auditoría (movie_audit) con la siguiente información:\n",
    "\n",
    "- movie_id\n",
    "- name\n",
    "- date\n",
    "- log_timestamp (fecha y hora del registro de auditoría)\n",
    "- action (debería ser 'INSERT')\n",
    "\n",
    "**Tareas:**\n",
    "\n",
    "Crear un trigger que registre cada inserción en la tabla movies."
   ]
  },
  {
   "cell_type": "code",
   "execution_count": null,
   "id": "4b89924f",
   "metadata": {},
   "outputs": [],
   "source": [
    "%%sql"
   ]
  },
  {
   "cell_type": "markdown",
   "id": "78a9a65e",
   "metadata": {},
   "source": [
    "## Crear un Stored Procedure\n",
    "\n",
    "Queremos una stored procedure que, dada una persona (actor/director) por person_id, devuelva:\n",
    "\n",
    "- Nombre completo de la persona\n",
    "- Lista de películas en las que participó\n",
    "- El rol (role) y el trabajo (job.name) en cada película\n",
    "\n",
    "**Tareas:**\n",
    "\n",
    "- Crear una función o procedimiento que reciba person_id BIGINT como parámetro.\n",
    "- Retorne una tabla con:\n",
    "    - movie_id\n",
    "    - movie_name\n",
    "    - job\n",
    "    - role"
   ]
  },
  {
   "cell_type": "code",
   "execution_count": null,
   "id": "d5d4c539",
   "metadata": {},
   "outputs": [],
   "source": [
    "%%sql"
   ]
  }
 ],
 "metadata": {
  "kernelspec": {
   "display_name": "venv",
   "language": "python",
   "name": "python3"
  },
  "language_info": {
   "codemirror_mode": {
    "name": "ipython",
    "version": 3
   },
   "file_extension": ".py",
   "mimetype": "text/x-python",
   "name": "python",
   "nbconvert_exporter": "python",
   "pygments_lexer": "ipython3",
   "version": "3.12.9"
  }
 },
 "nbformat": 4,
 "nbformat_minor": 5
}
